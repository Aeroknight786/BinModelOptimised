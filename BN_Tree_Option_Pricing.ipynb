{
  "nbformat": 4,
  "nbformat_minor": 0,
  "metadata": {
    "colab": {
      "name": "BN_Tree_Option_Pricing.ipynb",
      "provenance": [],
      "collapsed_sections": []
    },
    "kernelspec": {
      "name": "python3",
      "display_name": "Python 3"
    },
    "language_info": {
      "name": "python"
    }
  },
  "cells": [
    {
      "cell_type": "code",
      "metadata": {
        "id": "8odEij71hkuS"
      },
      "source": [
        "import numpy as np\n",
        "import matplotlib.pyplot as plt"
      ],
      "execution_count": null,
      "outputs": []
    },
    {
      "cell_type": "markdown",
      "metadata": {
        "id": "61SqtXztmNux"
      },
      "source": [
        "Now we define the tree nodes as a graph where the spot price at every node is represented as S(i,j) where i is the tree depth or time level. S(i,j) = S0 * u^(j)* d^(i-j) where j is the no. of multiples of u at the respective node. "
      ]
    },
    {
      "cell_type": "code",
      "metadata": {
        "id": "7Gh0F8-zmT1k"
      },
      "source": [
        "#Initialising Parameters:\n",
        "\n",
        "So = 100          #Initial Stock Price\n",
        "K = 100           #Strike Price\n",
        "T = 1             #Time Left to Maturity in Years\n",
        "r = 0.06          #Annual Risk Free Rate\n",
        "N = 3             #No. of Time Steps\n",
        "u = 1.1           #Spot Price Up-Factor in Binomial Model\n",
        "d = 1/u           #Ensure a Recombining Symmetrical Tree\n",
        "opttype = 'C'     #Option Type 'C' or 'P' for Call or Put Option\n",
        "H = 150           #Up and Out Barrier for Barrier Option"
      ],
      "execution_count": null,
      "outputs": []
    },
    {
      "cell_type": "code",
      "metadata": {
        "colab": {
          "base_uri": "https://localhost:8080/"
        },
        "id": "eCAWkgi8fHbc",
        "outputId": "562b799b-c752-46f4-80fe-80358fecef96"
      },
      "source": [
        "def binomial_tree(K,T,So,r,N,u,d,opttype = 'C'):\n",
        "  #Pre-Computing Constants\n",
        "  dt = T/N                          #Total Time to Maturity divided by number of periods.\n",
        "  q = (np.exp(r * dt) - d)/(u - d)  #Risk Neutral Formula\n",
        "  discount = np.exp(-r * dt)        #Discounting the Expected Pay-Offs when exercised.\n",
        "\n",
        "  #Initialise Asset Prices, Time Step N\n",
        "  S = np.zeros(N + 1)\n",
        "  S[0] = So * (d**N)\n",
        "  for j in range (1 , N+1):\n",
        "    S[j] = S[j-1] * u/d\n",
        "  \n",
        "  #Initialise Option Values at Maturity\n",
        "  C = np.zeros(N + 1)               #4 different possible pay offs if N = 3\n",
        "  for j in range(0,N+1):\n",
        "    C[j] = max(0, S[j] - K)\n",
        "    \n",
        "\n",
        "\n",
        "  #Step backwards through Tree\n",
        "  for i in np.arange(N,0,-1):\n",
        "    for j in range(0,i):\n",
        "      C[j] = discount * ( q*C[j+1] + (1-q)*C[j] )\n",
        "  \n",
        "  return C[0]\n",
        "\n",
        "binomial_tree(K,T,So,r,N,u,d,opttype = 'C')"
      ],
      "execution_count": null,
      "outputs": [
        {
          "output_type": "execute_result",
          "data": {
            "text/plain": [
              "10.145735799928817"
            ]
          },
          "metadata": {},
          "execution_count": 3
        }
      ]
    },
    {
      "cell_type": "code",
      "metadata": {
        "colab": {
          "base_uri": "https://localhost:8080/"
        },
        "id": "PmvDP4E5zhjq",
        "outputId": "23980fc4-cfa5-4184-909a-356e84e45f3d"
      },
      "source": [
        "def binomial_tree_vectorised(K,T,So,r,N,u,d,opttype = 'C'):\n",
        "  #Pre-Computing Constants\n",
        "  dt = T/N                          #Total Time to Maturity divided by number of periods.\n",
        "  q = (np.exp(r * dt) - d)/(u - d)  #Risk Neutral Formula\n",
        "  discount = np.exp(-r * dt)        #Discounting the Expected Pay-Offs when exercised.\n",
        "  \n",
        "  #Initialise Option Values at Maturity\n",
        "  S = So * d** (np.arange(N,-1,-1)) * u **(np.arange(0,N+1,1))\n",
        "\n",
        "  #Initialise Option Values\n",
        "  C = np.maximum(S - K, np.zeros(N+1))\n",
        "\n",
        "  #Step backwards through Tree\n",
        "  for i in np.arange(N,0,-1):\n",
        "    C = discount * (q * C[1:i+1] + (1 - q) * C[0:i])\n",
        "  \n",
        "  \n",
        "  return C[0]\n",
        "\n",
        "binomial_tree_vectorised(K,T,So,r,N,u,d,opttype = 'C')"
      ],
      "execution_count": null,
      "outputs": [
        {
          "output_type": "execute_result",
          "data": {
            "text/plain": [
              "10.145735799928826"
            ]
          },
          "metadata": {},
          "execution_count": 4
        }
      ]
    },
    {
      "cell_type": "code",
      "metadata": {
        "id": "C0RXWCHs19vl"
      },
      "source": [
        "y = []\n",
        "x = []\n",
        "for i in range(1, 6000):\n",
        "  if (i % 100 == 0):\n",
        "    x.append(i)\n",
        "    y.append(binomial_tree_vectorised(K,T,So,r,i,u,d,opttype = 'C')) "
      ],
      "execution_count": null,
      "outputs": []
    },
    {
      "cell_type": "code",
      "metadata": {
        "colab": {
          "base_uri": "https://localhost:8080/",
          "height": 282
        },
        "id": "Qz-40RxQ2c36",
        "outputId": "e7bc3f65-db7b-4c95-94e6-722b600eec70"
      },
      "source": [
        "plt.plot(x,y)\n",
        "plt.show()\n",
        "print(y[-1])"
      ],
      "execution_count": null,
      "outputs": [
        {
          "output_type": "display_data",
          "data": {
            "text/plain": [
              "<Figure size 432x288 with 1 Axes>"
            ],
            "image/png": "[encoded data removed]"
          },
          "metadata": {
            "needs_background": "light"
          }
        },
        {
          "output_type": "stream",
          "name": "stdout",
          "text": [
            "99.975487284982\n"
          ]
        }
      ]
    },
    {
      "cell_type": "code",
      "metadata": {
        "colab": {
          "base_uri": "https://localhost:8080/"
        },
        "id": "NTN-ncIED_36",
        "outputId": "9f39e3c8-da02-43dc-e2ca-36b244518ea2"
      },
      "source": [
        "def barrier_tree_slow(K,T,So,r,N,u,d,H,opttype = 'C'):\n",
        "  #Pre-Computing Constants\n",
        "  dt = T/N                          #Total Time to Maturity divided by number of periods.\n",
        "  q = (np.exp(r * dt) - d)/(u - d)  #Risk Neutral Formula\n",
        "  discount = np.exp(-r * dt)        #Discounting the Expected Pay-Offs when exercised.\n",
        "\n",
        "  #Initialise Asset Prices at Maturity\n",
        "  S =  np.zeros(N+1)\n",
        "  for j in range(0,N+1):\n",
        "    S[j] = So * (u**j) * (d**(N-j))\n",
        "\n",
        "  #Option PayOff\n",
        "  C = np.zeros(N+1)\n",
        "  for j in range(0,N+1):\n",
        "    if (opttype == 'C'):\n",
        "      C[j] = max(0, S[j] - K)\n",
        "    else:\n",
        "      C[j] = max(0, K - S[j])\n",
        "\n",
        "  #Check Terminal Condition PayOff \n",
        "  for j in range(0,N+1):\n",
        "    S = So * (u**j) * (d**(N-j))\n",
        "    if S>=H:\n",
        "      C[j] = 0\n",
        "\n",
        "  #Backward Iteration Through the Tree\n",
        "  for i in np.arange(N-1, -1,-1):\n",
        "    for j in range(0,i+1):\n",
        "      S = So* (u**j) * (d**(i-j))\n",
        "      if S >= H:\n",
        "        C[j] = 0\n",
        "      else:\n",
        "        C[j] = discount * (q*C[j+1] + (1-q)*C[j])\n",
        "  \n",
        "  return C[0]\n",
        "\n",
        "barrier_tree_slow(K,T,So,r,N,u,d,H,opttype = 'C')"
      ],
      "execution_count": null,
      "outputs": [
        {
          "output_type": "execute_result",
          "data": {
            "text/plain": [
              "10.145735799928826"
            ]
          },
          "metadata": {},
          "execution_count": 7
        }
      ]
    },
    {
      "cell_type": "code",
      "metadata": {
        "colab": {
          "base_uri": "https://localhost:8080/"
        },
        "id": "wX7hbBX-Izhu",
        "outputId": "e3d3e7f5-138f-4ca6-e83c-a09d1d3ef482"
      },
      "source": [
        "def barrier_tree_fast(K,T,So,r,N,u,d,H,opttype = 'C'):\n",
        "  #Pre-Computing Constants\n",
        "  dt = T/N                          #Total Time to Maturity divided by number of periods.\n",
        "  q = (np.exp(r * dt) - d)/(u - d)  #Risk Neutral Formula\n",
        "  discount = np.exp(-r * dt)        #Discounting the Expected Pay-Offs when exercised.\n",
        "\n",
        "  #Initialise Asset Prices at Maturity\n",
        "  S = So* (u**(np.arange(0,N+1,1))) * (d**(np.arange(N,-1,-1)))\n",
        "\n",
        "  #Option PayOff\n",
        "  if opttype == 'C':\n",
        "    C = np.maximum(S - K, 0)\n",
        "  else:\n",
        "    C = np.maximum(K - S, 0)\n",
        "\n",
        "  #Check Terminal Condition PayOff\n",
        "  C[S >= H ] = 0\n",
        "\n",
        "  #Backward Recursion through the Tree\n",
        "  for i in np.arange(N-1, -1, -1):\n",
        "    S = So* (u**(np.arange(0,i+1,1))) * (d**(np.arange(i,-1,-1)))\n",
        "    C[:i+1] = discount * (q * C[1:i+2] + (1-q) * C[0:i+1])\n",
        "    C = C[:-1]\n",
        "    C[S >= H] = 0\n",
        "  \n",
        "  return C[0]\n",
        "\n",
        "barrier_tree_fast(K,T,So,r,N,u,d,H,opttype = 'C')"
      ],
      "execution_count": null,
      "outputs": [
        {
          "output_type": "execute_result",
          "data": {
            "text/plain": [
              "10.145735799928826"
            ]
          },
          "metadata": {},
          "execution_count": 8
        }
      ]
    },
    {
      "cell_type": "code",
      "metadata": {
        "id": "vdG6i9icNFMO",
        "colab": {
          "base_uri": "https://localhost:8080/"
        },
        "outputId": "80b71d14-ecd9-4020-eb42-c94606018666"
      },
      "source": [
        "def american_tree_slow(K,T,S0,r,N,u,d,opttype='P'):\n",
        "  #Pre-Computing Constants\n",
        "  dt = T/N                          #Total Time to Maturity divided by number of periods.\n",
        "  q = (np.exp(r * dt) - d)/(u - d)  #Risk Neutral Formula\n",
        "  discount = np.exp(-r * dt)        #Discounting the Expected Pay-Offs when exercised.\n",
        "\n",
        "  #Initialise Asset Prices at Maturity\n",
        "  S =  np.zeros(N+1)\n",
        "  for j in range(0,N+1):\n",
        "    S[j] = So * (u**j) * (d**(N-j))\n",
        "\n",
        "  #Option PayOff\n",
        "  C = np.zeros(N+1)\n",
        "  for j in range(0,N+1):\n",
        "    if (opttype == 'C'):\n",
        "      C[j] = max(0, S[j] - K)\n",
        "    else:\n",
        "      C[j] = max(0, K - S[j])\n",
        "\n",
        "  #BackWard Iteration through the Tree\n",
        "  for i in np.arange(N-1,-1,-1):\n",
        "    for j in range(0,i+1):\n",
        "      S = So * (u**j) * (d**(i-j))\n",
        "      C[j] = discount * (q * C[j+1] + (1 - q) * C[j])\n",
        "      if opttype == 'P':\n",
        "        C[j] = max(C[j], K - S)\n",
        "      else:\n",
        "        C[j] = max(C[j], S - K)\n",
        "\n",
        "  return C[0]\n",
        "\n",
        "american_tree_slow(K,T,So,r,N,u,d,opttype='P') "
      ],
      "execution_count": null,
      "outputs": [
        {
          "output_type": "execute_result",
          "data": {
            "text/plain": [
              "4.654588754602527"
            ]
          },
          "metadata": {},
          "execution_count": 9
        }
      ]
    },
    {
      "cell_type": "code",
      "metadata": {
        "colab": {
          "base_uri": "https://localhost:8080/"
        },
        "id": "WdXgftd-dNhI",
        "outputId": "1c869736-ea8e-4fae-9fa7-49ad44d27295"
      },
      "source": [
        "def american_tree_fast(K,T,S0,r,N,u,d,opttype='P'):\n",
        "  #Pre-Computing Constants\n",
        "  dt = T/N                          #Total Time to Maturity divided by number of periods.\n",
        "  q = (np.exp(r * dt) - d)/(u - d)  #Risk Neutral Formula\n",
        "  discount = np.exp(-r * dt)        #Discounting the Expected Pay-Offs when exercised.\n",
        "\n",
        "  #Initialise Asset Prices at Maturity\n",
        "  S = So* (u**(np.arange(0,N+1,1))) * (d**(np.arange(N,-1,-1)))\n",
        "\n",
        "  #Option PayOff\n",
        "  if opttype == 'C':\n",
        "    C = np.maximum(S - K, 0)\n",
        "  else:\n",
        "    C = np.maximum(K - S, 0)\n",
        "\n",
        "  #BackWard Iteration through the Tree\n",
        "  for i in np.arange(N-1,-1,-1):\n",
        "    S = So* (u**(np.arange(0,i+1,1))) * (d**(np.arange(i,-1,-1)))\n",
        "    C[:i+1] = discount * (q * C[1:i+2] + (1-q) * C[0:i+1])\n",
        "    C = C[:-1]\n",
        "    if opttype == 'P':\n",
        "      C = np.maximum(C, K - S)\n",
        "    else:\n",
        "      C = np.maximum(C, S - K)\n",
        "\n",
        "  return C[0]\n",
        "\n",
        "american_tree_fast(K,T,So,r,N,u,d,opttype='P') "
      ],
      "execution_count": null,
      "outputs": [
        {
          "output_type": "execute_result",
          "data": {
            "text/plain": [
              "4.654588754602527"
            ]
          },
          "metadata": {},
          "execution_count": 10
        }
      ]
    },
    {
      "cell_type": "code",
      "source": [
        "def CRR_Method(K,T,So,r,N,sigma,opttype = 'C'):\n",
        "  #Pre-Computing Constants\n",
        "  dt = T/N                          #Total Time to Maturity divided by number of periods.\n",
        "  u = np.exp(sigma*np.sqrt(dt))\n",
        "  d = 1/u\n",
        "  q = (np.exp(r * dt) - d)/(u - d)  #Risk Neutral Formula\n",
        "  discount = np.exp(-r * dt)        #Discounting the Expected Pay-Offs when exercised.\n",
        "\n",
        "  #Initialise Asset Prices, Time Step N\n",
        "  S = np.zeros(N + 1)\n",
        "  S[0] = So * (d**N)\n",
        "  for j in range (1 , N+1):\n",
        "    S[j] = S[j-1] * u/d\n",
        "  \n",
        "  #Initialise Option Values at Maturity\n",
        "  C = np.zeros(N + 1)               #4 different possible pay offs if N = 3\n",
        "  for j in range(0,N+1):\n",
        "    C[j] = max(0, S[j] - K)\n",
        "    \n",
        "\n",
        "\n",
        "  #Step backwards through Tree\n",
        "  for i in np.arange(N,0,-1):\n",
        "    for j in range(0,i):\n",
        "      C[j] = discount * ( q*C[j+1] + (1-q)*C[j] )\n",
        "  \n",
        "  return C[0]\n",
        "\n",
        "CRR_Method(K,T,So,r,N,u,d,opttype = 'C')"
      ],
      "metadata": {
        "id": "lodqz1z3e41E"
      },
      "execution_count": null,
      "outputs": []
    },
    {
      "cell_type": "code",
      "source": [
        "def JR_Method(K,T,So,r,N,sigma,opttype = 'C'):\n",
        "  #Pre-Computing Constants\n",
        "  dt = T/N\n",
        "  nu = r - 0.5*sigma**2\n",
        "  u = np.exp(nu*dt + sigma*np.sqrt(dt))\n",
        "  d = np.exp(nu*dt - sigma*np.sqrt(dt))\n",
        "  q = 0.5\n",
        "  discount = np.exp(-r * dt)        #Discounting the Expected Pay-Offs when exercised.\n",
        "\n",
        "  #Initialise Asset Prices, Time Step N\n",
        "  S = np.zeros(N + 1)\n",
        "  S[0] = So * (d**N)\n",
        "  for j in range (1 , N+1):\n",
        "    S[j] = S[j-1] * u/d\n",
        "  \n",
        "  #Initialise Option Values at Maturity\n",
        "  C = np.zeros(N + 1)               #4 different possible pay offs if N = 3\n",
        "  for j in range(0,N+1):\n",
        "    C[j] = max(0, S[j] - K)\n",
        "    \n",
        "  #Step backwards through Tree\n",
        "  for i in np.arange(N,0,-1):\n",
        "    for j in range(0,i):\n",
        "      C[j] = discount * ( q*C[j+1] + (1-q)*C[j] )\n",
        "  \n",
        "  return C[0]\n",
        "\n",
        "CRR_Method(K,T,So,r,N,u,d,opttype = 'C')"
      ],
      "metadata": {
        "id": "1DZKlxstQwsD"
      },
      "execution_count": null,
      "outputs": []
    }
  ]
}